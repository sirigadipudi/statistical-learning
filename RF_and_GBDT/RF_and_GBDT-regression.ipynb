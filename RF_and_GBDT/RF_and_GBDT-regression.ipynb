{
 "cells": [
  {
   "cell_type": "code",
   "execution_count": 224,
   "metadata": {},
   "outputs": [],
   "source": [
    "#from multiprocessing import Pool\n",
    "#from functools import partial\n",
    "import numpy as np\n",
    "#from numba import jit"
   ]
  },
  {
   "cell_type": "code",
   "execution_count": 225,
   "metadata": {},
   "outputs": [
    {
     "name": "stderr",
     "output_type": "stream",
     "text": [
      "/opt/anaconda3/envs/ee511/lib/python3.9/site-packages/sklearn/utils/deprecation.py:87: FutureWarning: Function load_boston is deprecated; `load_boston` is deprecated in 1.0 and will be removed in 1.2.\n",
      "\n",
      "    The Boston housing prices dataset has an ethical problem. You can refer to\n",
      "    the documentation of this function for further details.\n",
      "\n",
      "    The scikit-learn maintainers therefore strongly discourage the use of this\n",
      "    dataset unless the purpose of the code is to study and educate about\n",
      "    ethical issues in data science and machine learning.\n",
      "\n",
      "    In this special case, you can fetch the dataset from the original\n",
      "    source::\n",
      "\n",
      "        import pandas as pd\n",
      "        import numpy as np\n",
      "\n",
      "        data_url = \"http://lib.stat.cmu.edu/datasets/boston\"\n",
      "        raw_df = pd.read_csv(data_url, sep=\"\\s+\", skiprows=22, header=None)\n",
      "        data = np.hstack([raw_df.values[::2, :], raw_df.values[1::2, :2]])\n",
      "        target = raw_df.values[1::2, 2]\n",
      "\n",
      "    Alternative datasets include the California housing dataset (i.e.\n",
      "    :func:`~sklearn.datasets.fetch_california_housing`) and the Ames housing\n",
      "    dataset. You can load the datasets as follows::\n",
      "\n",
      "        from sklearn.datasets import fetch_california_housing\n",
      "        housing = fetch_california_housing()\n",
      "\n",
      "    for the California housing dataset and::\n",
      "\n",
      "        from sklearn.datasets import fetch_openml\n",
      "        housing = fetch_openml(name=\"house_prices\", as_frame=True)\n",
      "\n",
      "    for the Ames housing dataset.\n",
      "  warnings.warn(msg, category=FutureWarning)\n"
     ]
    }
   ],
   "source": [
    "#For regression, boston dataset\n",
    "from sklearn import datasets\n",
    "boston = datasets.load_boston()\n",
    "X = boston.data\n",
    "y = boston.target\n",
    "\n",
    "# train-test split\n",
    "from sklearn.model_selection import train_test_split\n",
    "X_train, X_test, y_train, y_test = train_test_split(X, y, test_size=0.3, random_state=8)"
   ]
  },
  {
   "cell_type": "code",
   "execution_count": 3,
   "metadata": {},
   "outputs": [],
   "source": [
    "#california housing dataset\n",
    "from sklearn.datasets import fetch_california_housing\n",
    "\n",
    "# Load the full dataset\n",
    "california_housing = fetch_california_housing()\n",
    "\n",
    "# Extract the first 1000 samples from the dataset\n",
    "X = california_housing.data[:1000]\n",
    "y = california_housing.target[:1000]\n",
    "\n",
    "# train-test split\n",
    "from sklearn.model_selection import train_test_split\n",
    "X_train, X_test, y_train, y_test = train_test_split(X, y, test_size=0.3, random_state=8)"
   ]
  },
  {
   "cell_type": "code",
   "execution_count": 226,
   "metadata": {},
   "outputs": [],
   "source": [
    "def bootstrap_sample(X, y):\n",
    "    n_samples = X.shape[0]\n",
    "    idxs = np.random.choice(n_samples, n_samples, replace=True)\n",
    "    return X[idxs], y[idxs], idxs\n",
    "\n",
    "train, target, idxsi = bootstrap_sample(X_train, y_train)\n"
   ]
  },
  {
   "cell_type": "code",
   "execution_count": 227,
   "metadata": {},
   "outputs": [],
   "source": [
    "######################working splitting part############################\n",
    "\n",
    "\n",
    "def find_split_point(train, target, lmda=1, gamma=0.001):\n",
    "    node =None\n",
    "    best_feature = None\n",
    "    best_val = None\n",
    "    best_gain = 0 # changed to negative infinity\n",
    "    n = len(target)\n",
    "    #put m'\n",
    "    num_featuress = train.shape[1]\n",
    "    num_features = np.random.choice(num_featuress, size=4,replace=False)  ####modified####\n",
    "    for feature in num_features:\n",
    "        feature_values = train[:, feature]\n",
    "        feature_values_sorted = np.sort(feature_values)\n",
    "        num_sorted = feature_values_sorted.shape[0]\n",
    "        thresh = []\n",
    "        for j in range(num_sorted-1):\n",
    "            thresh_val = (feature_values_sorted[j] + feature_values_sorted[j+1]) / 2\n",
    "            thresh.append(thresh_val)\n",
    "            \n",
    "        for val in thresh:\n",
    "            left_child = {'X': [], 'y': []}\n",
    "            right_child = {'X': [], 'y': []}\n",
    "            left_indices =  np.where(feature_values<= val)[0]\n",
    "            right_indices = np.where(feature_values > val)[0]\n",
    "            \n",
    "            if np.sum(left_indices) == 0 or np.sum(right_indices) == 0:\n",
    "                continue\n",
    "            left_target=[]\n",
    "            #left_x = []\n",
    "            right_target=[]\n",
    "            #right_x = []\n",
    "            left_target = target[left_indices]\n",
    "            left_child['X'] = X[left_indices]\n",
    "            left_child['y'] = target[left_indices]\n",
    "            \n",
    "            right_target = target[right_indices]\n",
    "            right_child['X'] = X[right_indices]\n",
    "            right_child['y'] = target[right_indices]\n",
    "        \n",
    "            G_left, H_left = compute_loss_derivatives(left_target)\n",
    "            G_right, H_right = compute_loss_derivatives(right_target)\n",
    "            gain = ((((G_left**2)/(H_left + lmda)) + ((G_right**2)/(H_right + lmda)) - (((G_left + G_right)**2)/(H_left + H_right + lmda))) / 2) - gamma\n",
    "            \n",
    "            if gain > best_gain:\n",
    "                best_gain = gain\n",
    "                left_child['X'] = np.array(left_child['X'])\n",
    "                right_child['X'] = np.array(right_child['X'])\n",
    "                node = {'gain': gain,\n",
    "                    'left_child': left_child,\n",
    "                    'right_child': right_child,\n",
    "                    'split_point': val,\n",
    "                    'feature_idx': feature,\n",
    "                    #'left_indices': left_indices,\n",
    "                    #'right_indices': right_indices\n",
    "                       }\n",
    "            if gain < 0:\n",
    "                break\n",
    "    return node       \n",
    "#    return best_feature, best_val\n",
    "\n",
    "def compute_g_h(target):\n",
    "    \n",
    "    g = -2*abs(target - np.mean(target))\n",
    "    h = 2*(np.ones_like(target))\n",
    "    return g,h\n",
    "\n",
    "def compute_loss_derivatives(target):\n",
    "    g, h = compute_g_h(target)\n",
    "    G = np.sum(g)\n",
    "    H = np.sum(h)\n",
    "    return G, H"
   ]
  },
  {
   "cell_type": "code",
   "execution_count": 228,
   "metadata": {
    "scrolled": true
   },
   "outputs": [],
   "source": [
    "def split_node(node, min_samples_split, max_depth, depth):\n",
    "    if node is None:\n",
    "        return\n",
    "    left_child = node['left_child']\n",
    "    right_child = node['right_child']\n",
    "    \n",
    "    if (left_child == None ):\n",
    "        del(node['left_child'])\n",
    "        node['left_split'] = terminal_node(right_child['y'])\n",
    "    \n",
    "    if (right_child == None ):\n",
    "        del(node['right_child'])\n",
    "        node['right_split'] = terminal_node(left_child['y'])\n",
    "    \n",
    "        #del(node['right_child'])\n",
    "    del(node['left_child'])\n",
    "    del(node['right_child'])\n",
    "    \n",
    "    if len(left_child['y']) == 0 or len(right_child['y']) == 0:\n",
    "        empty_child = {'y': left_child['y'] + right_child['y']}\n",
    "        node['left_split'] = terminal_node(empty_child['y'])\n",
    "        node['right_split'] = terminal_node(empty_child['y'])\n",
    "        return\n",
    "\n",
    "    if depth >= max_depth:\n",
    "        node['left_split'] = terminal_node(left_child['y'])\n",
    "        node['right_split'] = terminal_node(right_child['y'])\n",
    "        return node\n",
    "\n",
    "    if len(left_child['y']) <= min_samples_split:\n",
    "            node['left_split'] = terminal_node(left_child['y'])\n",
    "    else:\n",
    "        left_node = find_split_point(left_child['X'], left_child['y'])\n",
    "        \n",
    "        if left_node is None:\n",
    "            node['left_split'] = terminal_node(left_child['y'])\n",
    "        else:\n",
    "            node['left_split'] = left_node\n",
    "            split_node(node['left_split'], min_samples_split, max_depth, depth+1)\n",
    "\n",
    "    if len(right_child['y']) <= min_samples_split:\n",
    "            node['right_split'] = terminal_node(right_child['y'])\n",
    "    else:\n",
    "        right_node = find_split_point(right_child['X'], right_child['y'])\n",
    "        if right_node is None:\n",
    "            node['right_split'] = terminal_node(right_child['y'])\n",
    "        else:\n",
    "            node['right_split'] = right_node\n",
    "            split_node(node['right_split'], min_samples_split, max_depth, depth+1)\n",
    "    #print(node)\n",
    "    return node\n",
    "    \n",
    "def terminal_node(target):\n",
    "    G, H = compute_loss_derivatives(target)\n",
    "    weight = -G / (H+lmda)\n",
    "    return weight\n"
   ]
  },
  {
   "cell_type": "code",
   "execution_count": 229,
   "metadata": {},
   "outputs": [],
   "source": [
    "def build_tree(train, target, max_depth, min_samples_split):\n",
    "    root_node = find_split_point(train, target)\n",
    "    split_node(root_node, min_samples_split, max_depth, 1)\n",
    "    return root_node"
   ]
  },
  {
   "cell_type": "code",
   "execution_count": 230,
   "metadata": {},
   "outputs": [],
   "source": [
    "def random_forest(X_train, y_train, tmax, max_depth, min_samples_split):\n",
    "    tree_ls = list()\n",
    "    for i in range(tmax):\n",
    "        train, target, idxsi = bootstrap_sample(X_train, y_train)\n",
    "        tree = build_tree(train, target, max_depth, min_samples_split)\n",
    "        tree_ls.append(tree)\n",
    "    return tree_ls\n"
   ]
  },
  {
   "cell_type": "code",
   "execution_count": 231,
   "metadata": {},
   "outputs": [],
   "source": [
    "def predict_tree(tree, X_test):\n",
    "#     if tree is None:\n",
    "#         return \n",
    "    feature_idx = tree['feature_idx']\n",
    "\n",
    "    if X_test[feature_idx] <= tree['split_point']:\n",
    "        if type(tree['left_split']) == dict:\n",
    "            return predict_tree(tree['left_split'], X_test)\n",
    "        else:\n",
    "            value = tree['left_split']\n",
    "            return value\n",
    "    else:\n",
    "        if type(tree['right_split']) == dict:\n",
    "            return predict_tree(tree['right_split'], X_test)\n",
    "        else:\n",
    "            return tree['right_split']"
   ]
  },
  {
   "cell_type": "code",
   "execution_count": 232,
   "metadata": {},
   "outputs": [],
   "source": [
    "def predict_rf(tree_ls, X_test):\n",
    "    pred_final = []\n",
    "    for i in range(len(X_test)):\n",
    "        pred_ls = 0\n",
    "        for tree in tree_ls:\n",
    "            pred = predict_tree(tree, X_test[i])\n",
    "            pred_ls = pred_ls + pred\n",
    "        pred_ls = (pred_ls/tmax) + 20\n",
    "        pred_final.append(pred_ls)\n",
    "    return pred_final"
   ]
  },
  {
   "cell_type": "code",
   "execution_count": 233,
   "metadata": {},
   "outputs": [],
   "source": [
    "tmax = 32 # 5 to 50\n",
    "max_depth = 6 # 2 to 10\n",
    "min_samples_split = 25 # 1 to 50\n",
    "lmda = 5 # 0 to 10\n",
    "gamma = 0.4 # 0 to 1\n",
    "\n",
    "model = random_forest(X_train, y_train, tmax, max_depth, min_samples_split)\n"
   ]
  },
  {
   "cell_type": "code",
   "execution_count": 234,
   "metadata": {},
   "outputs": [
    {
     "name": "stdout",
     "output_type": "stream",
     "text": [
      "[26.362615881304826, 26.46359466224107, 26.690095398917602, 26.569793974684714, 24.97550689076381, 25.64915234416339, 26.395950559287247, 27.051135750125198, 26.24701172172778, 26.129378433133972, 25.254886916891508, 25.87515738807322, 26.507550416506806, 25.791256655377353, 23.97005374943618, 26.73505768670433, 26.394359101446284, 26.362615881304826, 26.58989439323108, 25.876825734281326, 26.750005950118663, 24.066968016681045, 25.2314341283196, 26.394359101446284, 26.678963855957505, 25.61884742888276, 24.821633644806347, 25.563752470370513, 25.37639314424129, 26.271576353322185, 26.078971725115878, 26.12289607698302, 26.333954518293268, 26.075946487844227, 25.86326288831544, 26.394359101446284, 24.718092692392943, 26.46359466224107, 26.67730879708917, 25.30673808105463, 26.607594572479787, 26.362615881304826, 25.868865741924104, 26.078971725115878, 24.887161868292946, 25.78171755064599, 26.363178031480388, 26.12289607698302, 25.424529770115697, 25.64915234416339, 26.014549323973313, 26.174555220748154, 25.080443245966677, 26.025392887524355, 25.892906224267957, 26.305057855235372, 26.2485284299242, 25.87515738807322, 26.12289607698302, 25.39860920294808, 24.819184898888043, 26.336610211831122, 24.648907304851452, 23.808083846100242, 23.761326018401, 25.85088449906842, 25.16995224097378, 26.12289607698302, 26.078971725115878, 26.06271967984062, 25.72314784368559, 26.291646290500132, 25.61884742888276, 25.4205898245834, 25.902221582149348, 26.622114114570437, 24.823047969361877, 25.844634310017536, 25.492116527039457, 25.04466486032299, 26.46359466224107, 25.00728824261023, 26.06314998393937, 26.394359101446284, 26.547668653141372, 26.069465518628313, 23.808083846100242, 26.23036160080736, 26.51999145438746, 24.390157487246586, 26.414526248473933, 26.341275365217562, 27.0136625601897, 27.07337668780442, 26.336610211831122, 26.012944875458533, 26.333035092461778, 25.861974707047587, 26.46359466224107, 23.99813946195892, 24.515694411200965, 26.061004923765054, 23.695674562044502, 24.532542061199848, 24.551759093280488, 26.69439747795014, 24.19043815780747, 26.290677493038217, 25.859748372853854, 25.929405026725398, 26.12289607698302, 26.333954518293268, 26.394359101446284, 25.82183132192668, 26.46359466224107, 26.2485284299242, 25.40536369185875, 25.038945440031668, 26.24701172172778, 26.192110669636463, 26.846889778312796, 26.06271967984062, 23.808083846100242, 26.506699055518727, 26.58094175826816, 26.46359466224107, 26.750005950118663, 26.518474746191043, 26.394359101446284, 23.37513150810709, 26.58989439323108, 25.71181443243544, 26.420227276294234, 26.642957909498115, 26.12289607698302, 25.30673808105463, 26.12289607698302, 23.561240095097098, 26.159261768488477, 26.2485284299242, 26.732667878479024, 25.413876479043147, 26.221857810870805, 26.914420933961374, 26.211071693392064, 25.928511861357105, 26.394359101446284, 26.49748332881463, 26.268094934389474, 26.179704312550776, 26.29793740017604, 26.5102498553603]\n",
      "152\n",
      "[18.5 12.7 21.9 22.  50.  36.2 16.5 32.4 24.6 50.  13.9 11.9 16.2 21.4\n",
      " 14.1 22.8 20.2 20.6 21.7  8.5 19.7 24.7 24.  31.7 28.6 33.4  7.4 14.8\n",
      " 25.  17.  31.  12.6 19.4 11.9 24.8 23.7 29.  21.6 14.3 11.5 21.7 20.7\n",
      " 50.  33.8 33.  19.6 17.8 21.8 19.4 29.6 17.1 10.2 32.2 19.1 21.4 24.4\n",
      " 19.3 13.8 22.6 26.6 21.9 21.4 20.1  7.2 10.9 20.6 17.2 19.5 30.1 38.7\n",
      " 15.7 26.4 28.4 29.1 22.  24.4 22.5 17.4 19.7 19.4 13.1 10.2  8.5 17.8\n",
      " 20.4 28.7  8.4 19.3 22.8 35.4 19.6 21.2 31.2 35.2 18.4 36.2 21.  22.8\n",
      " 19.4 13.4  8.8 23.7 17.9 50.  30.3 22.9 15.6 21.2 28.7 30.7 20.1 19.3\n",
      " 50.  12.3 19.6 16.8 43.5 21.9 23.2 21.7 28.  28.4  9.6 23.1 28.1 15.2\n",
      " 23.4 29.4 48.3 10.4 18.9 50.  23.3 24.3 20.6  8.3 19.9 23.1 22.2 24.5\n",
      " 22.  24.8 23.2 23.3 36.  18.6 23.2 24.4 22.2 22.  15.4 23.7]\n"
     ]
    }
   ],
   "source": [
    "preds = predict_rf(model, X_test)\n",
    "print(preds)\n",
    "print(len(preds))\n",
    "print((y_test))"
   ]
  },
  {
   "cell_type": "code",
   "execution_count": 235,
   "metadata": {},
   "outputs": [
    {
     "name": "stdout",
     "output_type": "stream",
     "text": [
      "9.435128614914879\n",
      "rmse_train:  9.815044521788552\n"
     ]
    }
   ],
   "source": [
    "def root_mean_square_error(pred, y):\n",
    "    #TODO\n",
    "    rmse = np.sqrt((np.sum((y - pred)**2))*(1/len(y)))\n",
    "    return rmse\n",
    "\n",
    "rmse = root_mean_square_error(preds, y_test)\n",
    "print(rmse)\n",
    "\n",
    "preds_train = predict_rf(model, X_train)\n",
    "\n",
    "rmse_train = root_mean_square_error(preds_train,y_train)\n",
    "print(\"rmse_train: \",rmse_train)"
   ]
  },
  {
   "cell_type": "code",
   "execution_count": 236,
   "metadata": {},
   "outputs": [],
   "source": [
    "################################## GBDT ###########################################\n",
    "\n",
    "def find_split_point_gbdt(train, target,residual, lmda=0, gamma=0):\n",
    "    node =None\n",
    "    best_feature = None\n",
    "    best_val = None\n",
    "    best_gain = 0\n",
    "    num_featuress = train.shape[1]\n",
    "    num_features = np.random.choice(num_featuress, size=int(0.5*num_featuress),replace=True)\n",
    "    #for feature in enumerate(selected_features):\n",
    "    for feature in (num_features):\n",
    "        feature_values = train[:, feature]\n",
    "        feature_values_sorted = np.sort(feature_values)\n",
    "        num_sorted = feature_values_sorted.shape[0]\n",
    "        thresh = []\n",
    "        if type(feature_values)==[int, float]:\n",
    "\n",
    "            for j in range(num_sorted-1):\n",
    "                thresh_val = (feature_values_sorted[j] + feature_values_sorted[j+1]) / 2\n",
    "                thresh.append(thresh_val)\n",
    "\n",
    "        else: \n",
    "            for j in range(train.shape[0]):\n",
    "                thresh.append(feature_values[j])\n",
    "        for val in thresh:\n",
    "            left_child = {'X': [], 'y': []}\n",
    "            right_child = {'X': [], 'y': []}\n",
    "            left_indices =  np.where(feature_values<= val)[0]\n",
    "            right_indices = np.where(feature_values > val)[0]\n",
    "            \n",
    "            if np.sum(left_indices) == 0 or np.sum(right_indices) == 0:\n",
    "                continue\n",
    "            left_target=[]\n",
    "            #left_x = []\n",
    "            right_target=[]\n",
    "            #right_x = []\n",
    "            left_target = target[left_indices]\n",
    "            left_child['X'] = train[left_indices]\n",
    "            left_child['y'] = target[left_indices]\n",
    "            \n",
    "            right_target = target[right_indices]\n",
    "            right_child['X'] = train[right_indices]\n",
    "            right_child['y'] = target[right_indices]\n",
    "            residual_left = residual[left_indices]\n",
    "            residual_right = residual[right_indices]\n",
    "        \n",
    "            G_left, H_left = compute_loss_derivatives_gbdt(left_target, residual_left)\n",
    "            G_right, H_right = compute_loss_derivatives_gbdt(right_target, residual_right)\n",
    "            gain = ((((G_left**2)/(H_left + lmda)) + ((G_right**2)/(H_right + lmda))\n",
    "                    - (((G_left + G_right)**2)/(H_left + H_right + lmda))) / 2) - gamma\n",
    "            \n",
    "            if gain > best_gain:\n",
    "                best_gain = gain\n",
    "                left_child['X'] = np.array(left_child['X'])\n",
    "                right_child['X'] = np.array(right_child['X'])\n",
    "                node = {'gain': gain,\n",
    "                    'left_child': left_child,\n",
    "                    'right_child': right_child,\n",
    "                    'split_point': val,\n",
    "                    'feature_idx': feature,\n",
    "                    'left_indices': left_indices,\n",
    "                    'right_indices': right_indices}\n",
    "            if gain < 0:\n",
    "                break\n",
    "    return node       \n",
    "\n",
    "def compute_g_h_gbdt(target,residual):\n",
    "    g = -2*abs(target - residual)/12\n",
    "    h = 2*(np.ones_like(target))\n",
    "    return g,h\n",
    "\n",
    "\n",
    "def compute_g_h_classification_gbdt(target, residual):\n",
    "    predicted = 1/ (1+np.exp(-target))\n",
    "    #g = predicted - residual  # first-order derivative\n",
    "    #h = predicted * (1 - predicted)  # second-order derivative\n",
    "    g = (np.exp(predicted) / (1+np.exp(predicted))) - target\n",
    "    h = (np.exp(predicted))/((1+np.exp(predicted))**2)\n",
    "    return g, h\n",
    "\n",
    "def compute_loss_derivatives_gbdt(target,residual):\n",
    "    #g, h = compute_g_h_classification_gbdt(target,residual)\n",
    "    g,h = compute_g_h_gbdt(target,residual)\n",
    "    G = np.sum(g)\n",
    "    H = np.sum(h)\n",
    "    return G, H\n"
   ]
  },
  {
   "cell_type": "code",
   "execution_count": 237,
   "metadata": {},
   "outputs": [],
   "source": [
    "def split_node_gbdt(node, residual, min_samples_split, max_depth, depth):\n",
    "    \n",
    "    left_child = node['left_child']\n",
    "    right_child = node['right_child']\n",
    "    left_indices = node['left_indices']\n",
    "    \n",
    "    right_indices = node['right_indices']\n",
    "    \n",
    "    if (left_child == None ):\n",
    "        del(node['left_child'])\n",
    "        node['left_split'] = terminal_node_gbdt(right_child['y'], residual[right_indices])\n",
    "    \n",
    "    if (right_child == None):\n",
    "        del(node['right_child'])\n",
    "        node['right_split'] = terminal_node_gbdt(left_child['y'], residual[left_indices])\n",
    "    \n",
    "    del(node['left_child'])\n",
    "    del(node['right_child'])\n",
    "    del(node['left_indices'])\n",
    "    del(node['right_indices'])\n",
    "    \n",
    "    if len(left_child['y']) == 0 or len(right_child['y']) == 0:\n",
    "        empty_child = {'y': left_child['y'] + right_child['y']}\n",
    "        node['left_split'] = terminal_node_gbdt(empty_child['y'],residual[left_indices])\n",
    "        node['right_split'] = terminal_node_gbdt(empty_child['y'],residual[right_indices])\n",
    "        return\n",
    "\n",
    "    if depth >= max_depth:\n",
    "        node['left_split'] = terminal_node_gbdt(left_child['y'],residual[left_indices])\n",
    "        node['right_split'] = terminal_node_gbdt(right_child['y'],residual[right_indices])\n",
    "        return node\n",
    "\n",
    "    if len(left_child['y']) <= min_samples_split:\n",
    "            node['left_split'] = terminal_node_gbdt(left_child['y'],residual[left_indices])\n",
    "    else:\n",
    "        left_node = find_split_point_gbdt(left_child['X'], left_child['y'], residual[left_indices])\n",
    "        \n",
    "        if left_node is None:\n",
    "            node['left_split'] = terminal_node_gbdt(left_child['y'], residual[left_indices])\n",
    "        else:\n",
    "            node['left_split'] = left_node\n",
    "            split_node_gbdt(node['left_split'],residual[left_indices], min_samples_split, max_depth, depth+1)\n",
    "\n",
    "    if len(right_child['y']) <= min_samples_split:\n",
    "            node['right_split'] = terminal_node_gbdt(right_child['y'],residual[right_indices])\n",
    "    else:\n",
    "        right_node = find_split_point_gbdt(right_child['X'], right_child['y'],residual[right_indices])\n",
    "        if right_node is None:\n",
    "            node['right_split'] = terminal_node_gbdt(right_child['y'],residual[right_indices])\n",
    "        else:\n",
    "            node['right_split'] = right_node\n",
    "            split_node_gbdt(node['right_split'],residual[right_indices], min_samples_split, max_depth, depth+1)\n",
    "    return node\n",
    "    \n",
    "def terminal_node_gbdt(target,residual):\n",
    "    G, H = compute_loss_derivatives_gbdt(target,residual)\n",
    "    weight = -G / (H+lmda)\n",
    "    return weight\n"
   ]
  },
  {
   "cell_type": "code",
   "execution_count": 238,
   "metadata": {},
   "outputs": [],
   "source": [
    "#### write\n",
    "def build_tree_gbdt(train, target, residual, max_depth, min_samples_split):\n",
    "    root_node = find_split_point_gbdt(train, target, residual)\n",
    "    split_node_gbdt(root_node, residual, min_samples_split, max_depth, 1)\n",
    "    return root_node"
   ]
  },
  {
   "cell_type": "code",
   "execution_count": 239,
   "metadata": {},
   "outputs": [],
   "source": [
    "### check\n",
    "def gbdt(X_train, y_train, tmax, max_depth, min_samples_split, learning_rate):\n",
    "    #residual = y_train.copy()\n",
    "    #residual = np.zeros(len(y_train), dtype=np.float64)\n",
    "    tree_ls = []\n",
    "    for i in range(tmax):\n",
    "        if i == 0:\n",
    "            residual_0 = np.mean(y_train)\n",
    "            #residual = np.float64(np.full_like(y_train, residual_0))\n",
    "            residual_0 = np.float64(residual_0)\n",
    "            residual = np.ones(y_train.size) * residual_0\n",
    "            tree = build_tree_gbdt(X_train,y_train, residual, max_depth, min_samples_split)\n",
    "            tree_ls.append(tree)\n",
    "            for j in range(len(X_train)):\n",
    "                update = predict_tree_gbdt(tree, X_train[j]) #####\n",
    "                update = np.float64(update)\n",
    "            #print(residual)\n",
    "            residual += learning_rate * update\n",
    "            \n",
    "        else:\n",
    "            tree = build_tree_gbdt(X_train,y_train, residual, max_depth, min_samples_split)\n",
    "            tree_ls.append(tree)\n",
    "            for j in range(len(X_train)):\n",
    "                update = predict_tree_gbdt(tree, X_train[j]) #######\n",
    "                update = np.float64(update)\n",
    "            residual += learning_rate * update\n",
    "    return tree_ls"
   ]
  },
  {
   "cell_type": "code",
   "execution_count": 240,
   "metadata": {},
   "outputs": [],
   "source": [
    "##### check\n",
    "def predict_tree_gbdt(tree, X_test):\n",
    "    feature_idx = tree['feature_idx']\n",
    "\n",
    "    if X_test[feature_idx] <= tree['split_point']:\n",
    "        if type(tree['left_split']) == dict:\n",
    "            return predict_tree_gbdt(tree['left_split'], X_test)\n",
    "        else:\n",
    "            value = tree['left_split']\n",
    "            return value\n",
    "    else:\n",
    "        if type(tree['right_split']) == dict:\n",
    "            return predict_tree_gbdt(tree['right_split'], X_test)\n",
    "        else:\n",
    "            return tree['right_split']"
   ]
  },
  {
   "cell_type": "code",
   "execution_count": 241,
   "metadata": {},
   "outputs": [],
   "source": [
    "#### have to change\n",
    "def predict_gbdt(tree_ls, X_test):\n",
    "    pred_final = []\n",
    "    for i in range(len(X_test)):\n",
    "        pred_ls = []\n",
    "        for tree in tree_ls:\n",
    "            pred = predict_tree_gbdt(tree, X_test[i])\n",
    "            pred_ls.append(pred)\n",
    "        pred_ls = sum(pred_ls)\n",
    "        pred_final.append(pred_ls)\n",
    "    return pred_final"
   ]
  },
  {
   "cell_type": "code",
   "execution_count": 242,
   "metadata": {},
   "outputs": [],
   "source": [
    "tmax = 30 # 5 to 50\n",
    "max_depth = 6 # 2 to 10\n",
    "min_samples_split = 38 # 1 to 50\n",
    "lmda = 4 # 0 to 10\n",
    "gamma = 0.5 # 0 to 1\n",
    "learning_rate = np.float64(0.2) # 0.1 to 1.0\n",
    "\n",
    "model_gbdt = gbdt(X_train, y_train, tmax, max_depth, min_samples_split, learning_rate)"
   ]
  },
  {
   "cell_type": "code",
   "execution_count": 243,
   "metadata": {},
   "outputs": [
    {
     "name": "stdout",
     "output_type": "stream",
     "text": [
      "[8.181275379420091, 16.14191070384739, 39.842032024023666, 11.442656425755667, 43.5455557931107, 9.545108358961828, 15.266875756986432, 21.209248963577558, 7.652063028070458, 36.69404386277317, 13.630429224660425, 30.9587611753525, 18.432531093213257, 8.585352245101658, 17.505092005015584, 12.937705595850685, 13.318674773715122, 7.702269154970354, 10.20494698410932, 30.55426662149634, 8.048425480287138, 7.981428861850333, 13.96087253343342, 18.302922780247012, 7.18242028518302, 39.5298922594553, 31.494485664925755, 13.479808064152028, 11.83703203521493, 19.304259602792605, 19.094781345635283, 21.383424054696224, 11.35317598242248, 8.649095255122308, 20.209427755102638, 9.738631884036513, 20.312762052680092, 7.964371025257744, 16.20402019263187, 30.727426927987388, 11.560748811776449, 8.097996087686585, 40.355401755366415, 18.543255440850203, 17.06548523333403, 18.43642808858315, 21.110229055574013, 8.848945001802244, 8.723626578372464, 10.866113636127219, 8.296182101833907, 31.91738163486732, 17.067628893830463, 18.88582537259171, 14.945525073111936, 7.064595576098357, 8.87450454250842, 30.9587611753525, 9.742160673867815, 12.066565921803962, 8.023654713228847, 18.162013442607535, 9.033362701146526, 31.33690340967977, 24.445796811498617, 8.41754602025414, 25.972276879166575, 13.96472894611721, 18.754381753799336, 40.327030724031694, 19.13353482415136, 7.27229074553024, 8.794399144663853, 13.970761472234411, 11.891537574041191, 7.419092433649941, 14.047632029019786, 8.679339882321552, 12.28393606834674, 19.98545439854846, 14.495501531505418, 31.91738163486732, 24.906282803944343, 21.83668953764966, 9.124533271137151, 17.573129052161487, 30.238395813840413, 12.502563641796971, 8.287859773142767, 19.973091528603693, 7.780446680432862, 8.054835518377626, 15.947351166214428, 38.79832272710639, 20.42517229396218, 19.06854434741418, 7.780446680432862, 7.227563309694226, 9.24824536042516, 26.257350039740842, 31.85956222946551, 8.989808317659124, 26.574930245456923, 43.62182746887949, 19.820305275605794, 7.178546699424299, 19.98545439854846, 8.476831273140858, 11.082564019937232, 19.856339769752978, 14.761646342083521, 8.558887534399485, 39.21763808000136, 30.727426927987388, 10.95710418565971, 11.066057089161664, 43.75276663496213, 19.296636487728446, 7.790256901189657, 7.875402374091712, 9.279966750128644, 8.538643999904435, 23.696658552966998, 7.178546699424299, 7.180572939617795, 12.836602446610115, 7.66649555710692, 9.279966750128644, 42.37754896791702, 30.97299094055454, 9.199095081836003, 43.5455557931107, 7.412348772028399, 18.857877189899305, 9.25591170651673, 25.85208162344234, 12.209166203808993, 24.774189038907803, 7.301267724565278, 8.316722933376592, 7.388089214421407, 13.55288992032055, 7.1563133820108025, 20.158371327247146, 23.122066877867322, 7.931989053492279, 11.539598935315018, 9.687157842585163, 8.097996087686585, 7.66649555710692, 21.175754704440568, 7.180572939617795]\n",
      "[18.5 12.7 21.9 22.  50.  36.2 16.5 32.4 24.6 50.  13.9 11.9 16.2 21.4\n",
      " 14.1 22.8 20.2 20.6 21.7  8.5 19.7 24.7 24.  31.7 28.6 33.4  7.4 14.8\n",
      " 25.  17.  31.  12.6 19.4 11.9 24.8 23.7 29.  21.6 14.3 11.5 21.7 20.7\n",
      " 50.  33.8 33.  19.6 17.8 21.8 19.4 29.6 17.1 10.2 32.2 19.1 21.4 24.4\n",
      " 19.3 13.8 22.6 26.6 21.9 21.4 20.1  7.2 10.9 20.6 17.2 19.5 30.1 38.7\n",
      " 15.7 26.4 28.4 29.1 22.  24.4 22.5 17.4 19.7 19.4 13.1 10.2  8.5 17.8\n",
      " 20.4 28.7  8.4 19.3 22.8 35.4 19.6 21.2 31.2 35.2 18.4 36.2 21.  22.8\n",
      " 19.4 13.4  8.8 23.7 17.9 50.  30.3 22.9 15.6 21.2 28.7 30.7 20.1 19.3\n",
      " 50.  12.3 19.6 16.8 43.5 21.9 23.2 21.7 28.  28.4  9.6 23.1 28.1 15.2\n",
      " 23.4 29.4 48.3 10.4 18.9 50.  23.3 24.3 20.6  8.3 19.9 23.1 22.2 24.5\n",
      " 22.  24.8 23.2 23.3 36.  18.6 23.2 24.4 22.2 22.  15.4 23.7]\n"
     ]
    }
   ],
   "source": [
    "preds_gbdt = predict_gbdt(model_gbdt, X_test)\n",
    "print(preds_gbdt)\n",
    "print(y_test)"
   ]
  },
  {
   "cell_type": "code",
   "execution_count": 244,
   "metadata": {},
   "outputs": [
    {
     "name": "stdout",
     "output_type": "stream",
     "text": [
      "rmse_test: 12.9555935542497\n",
      "rmse_train:  12.830198003210173\n"
     ]
    }
   ],
   "source": [
    "def root_mean_square_error(pred, y):\n",
    "    #TODO\n",
    "    rmse = np.sqrt((np.sum((y - pred)**2))*(1/len(y)))\n",
    "    return rmse\n",
    "\n",
    "rmse_test_gbdt = root_mean_square_error(preds_gbdt, y_test)\n",
    "print(\"rmse_test:\",rmse_test_gbdt)\n",
    "\n",
    "predsgbdt_train = predict_gbdt(model_gbdt, X_train)\n",
    "\n",
    "rmsegbdt_train = root_mean_square_error(predsgbdt_train,y_train)\n",
    "print(\"rmse_train: \",rmsegbdt_train)"
   ]
  },
  {
   "cell_type": "code",
   "execution_count": 220,
   "metadata": {},
   "outputs": [
    {
     "name": "stdout",
     "output_type": "stream",
     "text": [
      "RMSE for training data with linear regression:  4.820626531838223\n",
      "RMSE for test data with linear regression:  5.2092175105308245\n",
      "RMSE for training data with ridge regression:  4.857935708226584\n",
      "RMSE for test data with ridge regression:  5.190927973729592\n"
     ]
    },
    {
     "data": {
      "text/plain": [
       "<matplotlib.legend.Legend at 0x7fb470dd9c40>"
      ]
     },
     "execution_count": 220,
     "metadata": {},
     "output_type": "execute_result"
    },
    {
     "data": {
      "image/png": "[encoded data removed]",
      "text/plain": [
       "<Figure size 640x480 with 1 Axes>"
      ]
     },
     "metadata": {},
     "output_type": "display_data"
    }
   ],
   "source": [
    "def least_square(X, y):\n",
    "    #TODO\n",
    "    # The Normal Equation\n",
    "    theta = np.dot(np.linalg.inv(np.dot(X.T, X)), np.dot(X.T, y))\n",
    "    return theta\n",
    "\n",
    "def ridge_reg(X, y, eta):\n",
    "    #TODO\n",
    "    n,m = X.shape\n",
    "    I = np.eye(m)\n",
    "    theta = np.dot(np.linalg.inv(np.dot(X.T, X) + eta*I),np.dot(X.T,y))\n",
    "    return theta\n",
    "\n",
    "def pred_fn(X, theta):\n",
    "    #TODO\n",
    "    pred = np.dot(X, theta)\n",
    "    return pred\n",
    "\n",
    "#for linear regression on training and test datasets\n",
    "theta_training = least_square(X_train, y_train)\n",
    "pred_training = pred_fn(X_train,theta_training)\n",
    "rmse_train = root_mean_square_error(pred_training,y_train)\n",
    "print(\"RMSE for training data with linear regression: \", rmse_train)\n",
    "\n",
    "pred_test = pred_fn(X_test, theta_training)\n",
    "rmse_test = root_mean_square_error(pred_test,y_test)\n",
    "print(\"RMSE for test data with linear regression: \", rmse_test)\n",
    "\n",
    "#for ridge regression on training and test datasets\n",
    "theta_training_ridge = ridge_reg(X_train, y_train, 25)\n",
    "pred_training_ridge = pred_fn(X_train, theta_training_ridge)\n",
    "pred_test_ridge = pred_fn(X_test, theta_training_ridge)\n",
    "rmse_train_ridge = root_mean_square_error(pred_training_ridge, y_train)\n",
    "print(\"RMSE for training data with ridge regression: \", rmse_train_ridge)\n",
    "rmse_test_ridge = root_mean_square_error(pred_test_ridge, y_test)\n",
    "print(\"RMSE for test data with ridge regression: \", rmse_test_ridge)\n",
    "\n",
    "import matplotlib.pyplot as plt\n",
    "\n",
    "# Plot the training data and predictions\n",
    "#plt.subplots(figsize=(5,5))\n",
    "\n",
    "plt.scatter(y_test,pred_test, label=\"Linear Regression\")\n",
    "plt.scatter( y_test,pred_test_ridge, label=\"Ridge Regression\")\n",
    "#plt.scatter(y_test,preds_gbdt,label =\"GBDT\")\n",
    "plt.scatter(y_test,preds,label=\"Random Forest\")\n",
    "plt.legend()"
   ]
  },
  {
   "cell_type": "code",
   "execution_count": 217,
   "metadata": {},
   "outputs": [
    {
     "data": {
      "text/plain": [
       "Text(0.5, 1.0, 'Ridge Regression')"
      ]
     },
     "execution_count": 217,
     "metadata": {},
     "output_type": "execute_result"
    },
    {
     "data": {
      "image/png": "[encoded data removed]",
      "text/plain": [
       "<Figure size 640x480 with 1 Axes>"
      ]
     },
     "metadata": {},
     "output_type": "display_data"
    }
   ],
   "source": [
    "plt.scatter( y_test,pred_test_ridge, label=\"Ridge Regression\")\n",
    "plt.title('Ridge Regression')"
   ]
  },
  {
   "cell_type": "code",
   "execution_count": 221,
   "metadata": {},
   "outputs": [],
   "source": [
    "# TODO: GBDT regression on boston house price dataset\n",
    "\n",
    "# load data\n",
    "from sklearn import datasets\n",
    "boston = datasets.load_boston()\n",
    "X = boston.data\n",
    "y = boston.target\n",
    "\n",
    "# train-test split\n",
    "from sklearn.model_selection import train_test_split\n",
    "X_train, X_test, y_train, y_test = train_test_split(X, y, test_size=0.3, random_state=8)"
   ]
  },
  {
   "cell_type": "code",
   "execution_count": 222,
   "metadata": {},
   "outputs": [],
   "source": [
    "# TODO: GBDT classification on credit-g dataset\n",
    "\n",
    "# load data\n",
    "from sklearn.datasets import fetch_openml\n",
    "X, y = fetch_openml('credit-g', version=1, return_X_y=True, data_home='credit/')\n",
    "y = np.array(list(map(lambda x: 1 if x == 'good' else 0, y)))\n",
    "\n",
    "# train-test split\n",
    "from sklearn.model_selection import train_test_split\n",
    "X_train, X_test, y_train, y_test = train_test_split(X, y, test_size=0.3, random_state=8)"
   ]
  },
  {
   "cell_type": "code",
   "execution_count": 223,
   "metadata": {},
   "outputs": [],
   "source": [
    "# TODO: GBDT classification on breast cancer dataset\n",
    "\n",
    "# load data\n",
    "from sklearn import datasets\n",
    "breast_cancer = datasets.load_breast_cancer()\n",
    "X = breast_cancer.data\n",
    "y = breast_cancer.target\n",
    "\n",
    "# train-test split\n",
    "from sklearn.model_selection import train_test_split\n",
    "X_train, X_test, y_train, y_test = train_test_split(X, y, test_size=0.3, random_state=8)"
   ]
  }
 ],
 "metadata": {
  "kernelspec": {
   "display_name": "Python 3 (ipykernel)",
   "language": "python",
   "name": "python3"
  },
  "language_info": {
   "codemirror_mode": {
    "name": "ipython",
    "version": 3
   },
   "file_extension": ".py",
   "mimetype": "text/x-python",
   "name": "python",
   "nbconvert_exporter": "python",
   "pygments_lexer": "ipython3",
   "version": "3.9.15"
  }
 },
 "nbformat": 4,
 "nbformat_minor": 2
}
