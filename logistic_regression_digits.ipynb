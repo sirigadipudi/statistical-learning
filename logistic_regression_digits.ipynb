{
  "cells": [
    {
      "cell_type": "code",
      "execution_count": 12,
      "metadata": {
        "colab": {
          "base_uri": "https://localhost:8080/"
        },
        "id": "fmUbyWxmM9xX",
        "outputId": "cacf1244-9e1a-4070-f6ed-422c7b3d5936"
      },
      "outputs": [
        {
          "output_type": "stream",
          "name": "stdout",
          "text": [
            "dict_keys(['data', 'target', 'frame', 'feature_names', 'target_names', 'images', 'DESCR'])\n"
          ]
        }
      ],
      "source": [
        "from sklearn import datasets\n",
        "digits = datasets.load_digits()\n",
        "print (digits.keys())"
      ]
    },
    {
      "cell_type": "code",
      "execution_count": 13,
      "metadata": {
        "colab": {
          "base_uri": "https://localhost:8080/"
        },
        "id": "Gv6dDfKhM9xY",
        "outputId": "91a69558-d533-4a6a-94fe-4ff5a8c71b3a"
      },
      "outputs": [
        {
          "output_type": "stream",
          "name": "stdout",
          "text": [
            "data size =  (1797, 64)\n",
            "target size =  (1797,)\n",
            ".. _digits_dataset:\n",
            "\n",
            "Optical recognition of handwritten digits dataset\n",
            "--------------------------------------------------\n",
            "\n",
            "**Data Set Characteristics:**\n",
            "\n",
            "    :Number of Instances: 1797\n",
            "    :Number of Attributes: 64\n",
            "    :Attribute Information: 8x8 image of integer pixels in the range 0..16.\n",
            "    :Missing Attribute Values: None\n",
            "    :Creator: E. Alpaydin (alpaydin '@' boun.edu.tr)\n",
            "    :Date: July; 1998\n",
            "\n",
            "This is a copy of the test set of the UCI ML hand-written digits datasets\n",
            "https://archive.ics.uci.edu/ml/datasets/Optical+Recognition+of+Handwritten+Digits\n",
            "\n",
            "The data set contains images of hand-written digits: 10 classes where\n",
            "each class refers to a digit.\n",
            "\n",
            "Preprocessing programs made available by NIST were used to extract\n",
            "normalized bitmaps of handwritten digits from a preprinted form. From a\n",
            "total of 43 people, 30 contributed to the training set and different 13\n",
            "to the test set. 32x32 bitmaps are divided into nonoverlapping blocks of\n",
            "4x4 and the number of on pixels are counted in each block. This generates\n",
            "an input matrix of 8x8 where each element is an integer in the range\n",
            "0..16. This reduces dimensionality and gives invariance to small\n",
            "distortions.\n",
            "\n",
            "For info on NIST preprocessing routines, see M. D. Garris, J. L. Blue, G.\n",
            "T. Candela, D. L. Dimmick, J. Geist, P. J. Grother, S. A. Janet, and C.\n",
            "L. Wilson, NIST Form-Based Handprint Recognition System, NISTIR 5469,\n",
            "1994.\n",
            "\n",
            ".. topic:: References\n",
            "\n",
            "  - C. Kaynak (1995) Methods of Combining Multiple Classifiers and Their\n",
            "    Applications to Handwritten Digit Recognition, MSc Thesis, Institute of\n",
            "    Graduate Studies in Science and Engineering, Bogazici University.\n",
            "  - E. Alpaydin, C. Kaynak (1998) Cascading Classifiers, Kybernetika.\n",
            "  - Ken Tang and Ponnuthurai N. Suganthan and Xi Yao and A. Kai Qin.\n",
            "    Linear dimensionalityreduction using relevance weighted LDA. School of\n",
            "    Electrical and Electronic Engineering Nanyang Technological University.\n",
            "    2005.\n",
            "  - Claudio Gentile. A New Approximate Maximal Margin Classification\n",
            "    Algorithm. NIPS. 2000.\n",
            "\n"
          ]
        }
      ],
      "source": [
        "# a form of summary of the data\n",
        "print('data size = ', digits.data.shape)\n",
        "print('target size = ', digits.target.shape)\n",
        "print(digits.DESCR)"
      ]
    },
    {
      "cell_type": "code",
      "execution_count": 14,
      "metadata": {
        "colab": {
          "base_uri": "https://localhost:8080/",
          "height": 283
        },
        "id": "ucoho3pJM9xZ",
        "outputId": "b5ffbbf0-1fb4-4905-eafb-f78f3d05202a"
      },
      "outputs": [
        {
          "output_type": "display_data",
          "data": {
            "text/plain": [
              "<Figure size 1440x288 with 5 Axes>"
            ],
            "image/png": "[encoded data removed]"
          },
          "metadata": {
            "needs_background": "light"
          }
        }
      ],
      "source": [
        "%matplotlib inline\n",
        "import matplotlib.pyplot as plt\n",
        "import numpy as np\n",
        "\n",
        "# show examples of dataset\n",
        "plt.figure(figsize=(20,4))\n",
        "for index, (image, label) in enumerate(zip(digits.data[0:5], digits.target[0:5])):\n",
        "    plt.subplot(1, 5, index + 1)\n",
        "    plt.imshow(np.reshape(image, (8,8)), cmap=plt.cm.gray)\n",
        "    plt.title('Training: %i\\n' % label, fontsize = 20)"
      ]
    },
    {
      "cell_type": "code",
      "execution_count": 15,
      "metadata": {
        "colab": {
          "base_uri": "https://localhost:8080/"
        },
        "id": "w2XNmPTwM9xZ",
        "outputId": "ab900eda-f47f-4d3f-a1d5-816a7ba73aba"
      },
      "outputs": [
        {
          "output_type": "stream",
          "name": "stdout",
          "text": [
            "[ 0.  0.  2. 16. 10.  0.  0.  0.  0.  0.  4. 16. 16.  5.  0.  0.  0.  0.\n",
            "  8. 16. 16.  3.  0.  0.  0.  0.  9. 16. 16.  3.  0.  0.  0.  0.  8. 16.\n",
            " 16.  3.  0.  0.  0.  0.  8. 16. 16.  1.  0.  0.  0.  0.  5. 16. 14.  0.\n",
            "  0.  0.  0.  0.  1. 12. 16.  3.  0.  0.] 1\n"
          ]
        }
      ],
      "source": [
        "# train-test split\n",
        "from sklearn.model_selection import train_test_split\n",
        "X_train, X_test, y_train, y_test = train_test_split(digits.data, digits.target, test_size=0.25, random_state=8)\n",
        "print (X_train[256], y_train[256])"
      ]
    },
    {
      "cell_type": "code",
      "execution_count": 16,
      "metadata": {
        "colab": {
          "base_uri": "https://localhost:8080/"
        },
        "id": "Ui3IgH3DM9xa",
        "outputId": "d3572624-490f-44d2-b5d3-96fcc6c08492"
      },
      "outputs": [
        {
          "output_type": "stream",
          "name": "stdout",
          "text": [
            "count:  211\n",
            "loss:  0.21522548302621042\n"
          ]
        }
      ],
      "source": [
        "# 3.2 batch gradient descent (GD) for Logistic regression\n",
        "def LogisticRegression_GD(X_train, y_train, learning_rate):\n",
        "    #TODO\n",
        "    n, m = X_train.shape\n",
        "    k = (np.unique(y_train).shape[0])\n",
        "    W = np.zeros((m,k))\n",
        "    b = np.zeros((n,k))\n",
        "    y_hat = 0\n",
        "    loss_prev = []\n",
        "    stop_threshold = 1.0e-4\n",
        "    eta = 0.1\n",
        "    count = 0\n",
        "    prev_loss = 0\n",
        "    \n",
        "    while(1):\n",
        "        z = np.dot(X_train,W) + b\n",
        "        #logits\n",
        "        Z = z - np.max(z, axis = 1, keepdims=True)\n",
        "        #softmax\n",
        "        ki = np.exp(Z)\n",
        "        y_hat = ki / np.sum(ki, axis=1, keepdims=True)\n",
        "        #loss\n",
        "        loss = np.mean(-np.log(y_hat[range(n),y_train])) + (eta/2)*(np.linalg.norm(W)**2)\n",
        "        loss_prev.append(loss)\n",
        "        if count > 1 and np.abs(loss - prev_loss) <= stop_threshold:\n",
        "            print(\"count: \",count)\n",
        "            print(\"loss: \",loss)\n",
        "            break\n",
        "        prev_loss = loss\n",
        "        y_onehot = np.zeros((y_train.size,10))\n",
        "        y_onehot[np.arange(y_train.size),y_train] = 1\n",
        "        dW = np.dot(X_train.T, y_hat - y_onehot) / n + eta*W\n",
        "        db = np.sum((y_hat - 1), axis = 0, keepdims=True)/n\n",
        "\n",
        "        W -= learning_rate*dW\n",
        "        b -= learning_rate*db\n",
        "        #i = i+1\n",
        "        #i = 0\n",
        "        count = count + 1\n",
        "    return W, b, loss, loss_prev\n",
        "\n",
        "W, b, loss, loss_prev = LogisticRegression_GD(X_train, y_train, 0.05)\n",
        "#print(loss_prev)\n",
        "# W, b, loss_prev = LogisticRegression_GD(X_train, y_train, 0.05)\n",
        "# print(loss_prev)\n"
      ]
    },
    {
      "cell_type": "code",
      "execution_count": 17,
      "metadata": {
        "colab": {
          "base_uri": "https://localhost:8080/",
          "height": 922
        },
        "id": "jEfacDO7M9xa",
        "outputId": "188510cd-f190-4a53-e34d-4c9e3eb12e46"
      },
      "outputs": [
        {
          "output_type": "stream",
          "name": "stdout",
          "text": [
            "---------------------------------------\n",
            "learning rate = 0.05\n",
            "count:  211\n",
            "loss:  0.21522548302621042\n",
            "training precision = 0.9844097995545658\n",
            "count:  232\n",
            "loss:  0.1702401258512822\n",
            "test precision = 0.9977777777777778\n",
            "---------------------------------------\n",
            "learning rate = 0.005\n",
            "count:  345\n",
            "loss:  0.18986634434574098\n",
            "training precision = 0.9747587230883444\n",
            "count:  364\n",
            "loss:  0.1627648710720514\n",
            "test precision = 0.9933333333333333\n",
            "---------------------------------------\n",
            "learning rate = 0.01\n",
            "count:  239\n",
            "loss:  0.18032210719534472\n",
            "training precision = 0.9769858945805494\n",
            "count:  248\n",
            "loss:  0.1532693624019695\n",
            "test precision = 0.9933333333333333\n"
          ]
        },
        {
          "output_type": "execute_result",
          "data": {
            "text/plain": [
              "Text(0, 0.5, 'loss')"
            ]
          },
          "metadata": {},
          "execution_count": 17
        },
        {
          "output_type": "display_data",
          "data": {
            "text/plain": [
              "<Figure size 720x576 with 1 Axes>"
            ],
            "image/png": "[encoded data removed]"
          },
          "metadata": {
            "needs_background": "light"
          }
        }
      ],
      "source": [
        "# evaluation of different learning rate\n",
        "learning_rate = [5.0e-2, 5.0e-3, 1.0e-2]\n",
        "cl = ['darkgreen', 'cyan', 'red']\n",
        "fig, ax = plt.subplots(figsize=(10, 8))\n",
        "for i in range(len(learning_rate)):\n",
        "    \n",
        "    print ('---------------------------------------')\n",
        "    print ('learning rate =', learning_rate[i])\n",
        "    \n",
        "    W, b, loss_GD, loss_prev = LogisticRegression_GD(X_train, y_train, learning_rate[i])\n",
        "    \n",
        "    def accuracy(y_pred, y_true):\n",
        "        correct = 0\n",
        "        wrong = 0\n",
        "        for i in range(len(y_pred)):\n",
        "            if (y_pred[i] == y_true[i]):\n",
        "                correct += 1\n",
        "            elif (y_pred[i] != y_true[i]):\n",
        "                wrong += 1\n",
        "        accuracy = correct / (correct + wrong)\n",
        "        return accuracy\n",
        "    \n",
        "    #TODO\n",
        "    z = np.dot(X_train,W) + b\n",
        "    #logits\n",
        "    Z = z - np.max(z, axis = 1, keepdims=True)\n",
        "    #softmax\n",
        "    ki = np.exp(Z)\n",
        "    y_hat = ki / np.sum(ki, axis=1, keepdims=True)\n",
        "    y_pred = np.argmax(y_hat,axis=1)\n",
        "    prec_train = accuracy(y_pred,y_train)\n",
        "    print ('training precision =', prec_train)\n",
        "\n",
        "    #TODO\n",
        "    W1, b1, loss_GD1, loss_prev1 = LogisticRegression_GD(X_test, y_test, learning_rate[i])\n",
        "    z1 = np.dot(X_test,W1) + b1\n",
        "    #logits\n",
        "    Z1 = z1 - np.max(z1, axis = 1, keepdims=True)\n",
        "    #softmax\n",
        "    ki1 = np.exp(Z1)\n",
        "    y_hat1 = ki1 / np.sum(ki1, axis=1, keepdims=True)\n",
        "    y_pred1 = np.argmax(y_hat1,axis=1)\n",
        "    prec_test = accuracy(y_pred1,y_test)\n",
        "    print ('test precision =', prec_test)\n",
        "    \n",
        "    plt.plot(loss_prev, c = cl[i], ls = '-', marker = 'o', label = 'batch gradient descent (lr = ' + str(learning_rate[i]) + ')')\n",
        "\n",
        "plt.grid()\n",
        "plt.legend()\n",
        "plt.xlabel('iteration')\n",
        "plt.ylabel('loss')"
      ]
    },
    {
      "cell_type": "code",
      "source": [
        "#final################# # 3.3 stochastic gradient descent (SGD) for Logistic regression\n",
        "\n",
        "def LogisticRegression_SGD(X, y, batch_size, lr=1.0e-2, eta=2.0e-1, eps = 1.0e-4, max_epoch=500):\n",
        "    \n",
        "    #TODO: initialization\n",
        "    notstop = True\n",
        "    epoch = 0\n",
        "    loss = []\n",
        "    loss_history = []\n",
        "    \n",
        "    n, m = X.shape\n",
        "    W = np.zeros((64,10))\n",
        "    b = np.zeros((1,10))\n",
        "\n",
        "    # optimization loop\t\n",
        "    while notstop and epoch < max_epoch:\n",
        "        \n",
        "        #TODO: SGD of each epoch\n",
        "    \n",
        "        #shuffling for every epoch\n",
        "        indices_new = np.random.permutation(n)\n",
        "        X_new = X[indices_new]\n",
        "        y_new = y[indices_new]\n",
        "        batches = [(X[l:l+batch_size], y[l:l+batch_size]) for l in range(0,n,batch_size)]\n",
        "        for batch in batches[: -1]:\n",
        "            X_batch, y_batch = batch[0], batch[1]\n",
        "            #computing the gradient\n",
        "            z = np.dot(X_batch,W) + b\n",
        "            #logits\n",
        "            Z = z - np.max(z, axis = 1, keepdims=True)\n",
        "            #softmax\n",
        "            ki = np.exp(Z)\n",
        "            y_hat = ki / np.sum(ki, axis=1, keepdims=True)\n",
        "            y_onehot = np.zeros((y_batch.size,10))\n",
        "            y_onehot[np.arange(y_batch.size),y_batch] = 1\n",
        "            loss1 = np.mean(-np.log(y_hat[range(batch_size),y_batch])) + eta*(np.linalg.norm(W)**2)/2\n",
        "            loss_history.append(loss1)\n",
        "            dW = np.dot(X_batch.T, y_hat - y_onehot) / batch_size + eta*W\n",
        "            db = np.sum((y_hat - 1), axis = 0, keepdims=True)/ batch_size\n",
        "            #TODO\n",
        "            W -= lr*dW\n",
        "            b -= lr*db\n",
        "            \n",
        "        loss.append(np.mean(loss_history))\n",
        "        loss_history = []\n",
        "        # half lr if not improving in 10 epochs\n",
        "        if epoch > 10:\n",
        "            if loss[epoch - 10] <= loss[epoch] - eps:\n",
        "                lr *= 0.5\n",
        "                print ('reduce learning rate to', lr)\n",
        "        \n",
        "        # stop if not improving in 20 epochs\n",
        "        if epoch > 20:\n",
        "            if loss[epoch - 20] <= loss[epoch] - eps or abs(loss[epoch] - loss[epoch-1]) <= eps:                \n",
        "                notstop = False\n",
        "                print(\"loss in loop: \", loss[-1])\n",
        "                print(\"epoch size: \", epoch)\n",
        "                break\n",
        "            \n",
        "        epoch += 1\n",
        "        \n",
        "\n",
        "\n",
        "    return (W, b, loss)\n",
        "W, b, loss_SGD = LogisticRegression_SGD(X_train, y_train, 100, 0.01, eta = 2.0e-1, eps = 1.0e-4, max_epoch = 500)\n"
      ],
      "metadata": {
        "id": "YWsoXf4DKzj3",
        "colab": {
          "base_uri": "https://localhost:8080/"
        },
        "outputId": "5150224c-f14f-4d28-8b68-1c04e9355d94"
      },
      "execution_count": 19,
      "outputs": [
        {
          "output_type": "stream",
          "name": "stdout",
          "text": [
            "loss in loop:  0.23764523187369768\n",
            "epoch size:  37\n"
          ]
        }
      ]
    },
    {
      "cell_type": "code",
      "source": [
        "# evaluation of different batch size\n",
        "bs = [10, 50, 100]\n",
        "cl = ['green', 'blue', 'orange']\n",
        "# TODO: different learning rate for different batch size\n",
        "lr = [0.01, 0.01, 0.01]\n",
        "fig, ax = plt.subplots(figsize=(10, 8))\n",
        "\n",
        "def accuracy(y_pred, y_true):\n",
        "  correct = 0\n",
        "  wrong = 0\n",
        "  for i in range(len(y_pred)):\n",
        "      if (y_pred[i] == y_true[i]):\n",
        "          correct += 1\n",
        "      elif (y_pred[i] != y_true[i]):\n",
        "          wrong += 1\n",
        "  accuracy = correct / (correct + wrong)\n",
        "  return accuracy\n",
        "\n",
        "for i in range(len(bs)):\n",
        "    \n",
        "    print ('---------------------------------------')\n",
        "    print ('batch_size =', bs[i])\n",
        "    W, b, loss_SGD = LogisticRegression_SGD(X_train, y_train, bs[i], lr[i], eta = 2.0e-1, eps = 1.0e-4, max_epoch = 500)\n",
        "    print(\"loss: \", loss_SGD[-1])\n",
        "    #TODO\n",
        "    z = np.dot(X_train,W) + b\n",
        "    #logits\n",
        "    Z = z - np.max(z, axis = 1, keepdims=True)\n",
        "    #softmax\n",
        "    ki = np.exp(Z)\n",
        "    y_hat = ki / np.sum(ki, axis=1, keepdims=True)\n",
        "    y_pred = np.argmax(y_hat,axis=1)\n",
        "    prec_train = accuracy(y_pred,y_train)\n",
        "    print ('training precision =', prec_train)\n",
        "    \n",
        "    #TODO\n",
        "    W1, b1, loss_SGD1 = LogisticRegression_SGD(X_train, y_train, bs[i], lr[i], eta = 2.0e-1, eps = 1.0e-4, max_epoch = 500)\n",
        "    z1 = np.dot(X_test,W1) + b1\n",
        "    #logits\n",
        "    Z1 = z1 - np.max(z1, axis = 1, keepdims=True)\n",
        "    #softmax\n",
        "    ki1 = np.exp(Z1)\n",
        "    y_hat1 = ki1 / np.sum(ki1, axis=1, keepdims=True)\n",
        "    y_pred1 = np.argmax(y_hat1,axis=1)\n",
        "    prec_test = accuracy(y_pred1,y_test)\n",
        "    print ('test precision =', prec_test)\n",
        "    \n",
        "    plt.plot(loss_SGD, c = cl[i], ls = '-', marker = 'o', label = 'stochastic gradient descent (batch_size = ' + str(bs[i]) + ')')\n",
        "\n",
        "plt.grid()\n",
        "plt.legend()\n",
        "plt.xlabel('epoch')\n",
        "plt.ylabel('loss')"
      ],
      "metadata": {
        "colab": {
          "base_uri": "https://localhost:8080/",
          "height": 975
        },
        "id": "2KUiR-5J5wYq",
        "outputId": "dbab6907-8f73-4c2d-c619-e26f8b31a0cc"
      },
      "execution_count": 20,
      "outputs": [
        {
          "output_type": "stream",
          "name": "stdout",
          "text": [
            "---------------------------------------\n",
            "batch_size = 10\n",
            "loss in loop:  0.3343988282640945\n",
            "epoch size:  21\n",
            "loss:  0.3343988282640945\n",
            "training precision = 0.9086859688195991\n",
            "loss in loop:  0.3343988282640945\n",
            "epoch size:  21\n",
            "test precision = 0.8911111111111111\n",
            "---------------------------------------\n",
            "batch_size = 50\n",
            "loss in loop:  0.24113280164776704\n",
            "epoch size:  24\n",
            "loss:  0.24113280164776704\n",
            "training precision = 0.9792130660727543\n",
            "loss in loop:  0.24113280164776704\n",
            "epoch size:  24\n",
            "test precision = 0.9688888888888889\n",
            "---------------------------------------\n",
            "batch_size = 100\n",
            "loss in loop:  0.23764523187369768\n",
            "epoch size:  37\n",
            "loss:  0.23764523187369768\n",
            "training precision = 0.9799554565701559\n",
            "loss in loop:  0.23764523187369768\n",
            "epoch size:  37\n",
            "test precision = 0.9711111111111111\n"
          ]
        },
        {
          "output_type": "execute_result",
          "data": {
            "text/plain": [
              "Text(0, 0.5, 'loss')"
            ]
          },
          "metadata": {},
          "execution_count": 20
        },
        {
          "output_type": "display_data",
          "data": {
            "text/plain": [
              "<Figure size 720x576 with 1 Axes>"
            ],
            "image/png": "[encoded data removed]"
          },
          "metadata": {
            "needs_background": "light"
          }
        }
      ]
    },
    {
      "cell_type": "code",
      "source": [
        "# evaluation of different batch size\n",
        "bs = [10, 50, 100]\n",
        "cl = ['green', 'blue', 'orange']\n",
        "# TODO: different learning rate for different batch size\n",
        "lr = [0.001, 0.005, 0.01]\n",
        "fig, ax = plt.subplots(figsize=(10, 8))\n",
        "\n",
        "def accuracy(y_pred, y_true):\n",
        "  correct = 0\n",
        "  wrong = 0\n",
        "  for i in range(len(y_pred)):\n",
        "      if (y_pred[i] == y_true[i]):\n",
        "          correct += 1\n",
        "      elif (y_pred[i] != y_true[i]):\n",
        "          wrong += 1\n",
        "  accuracy = correct / (correct + wrong)\n",
        "  return accuracy\n",
        "\n",
        "for i in range(len(bs)):\n",
        "    \n",
        "    print ('---------------------------------------')\n",
        "    print ('batch_size =', bs[i])\n",
        "    W, b, loss_SGD = LogisticRegression_SGD(X_train, y_train, bs[i], lr[i], eta = 2.0e-1, eps = 1.0e-4, max_epoch = 500)\n",
        "    print(\"loss: \", loss_SGD[-1])\n",
        "    #TODO\n",
        "    z = np.dot(X_train,W) + b\n",
        "    #logits\n",
        "    Z = z - np.max(z, axis = 1, keepdims=True)\n",
        "    #softmax\n",
        "    ki = np.exp(Z)\n",
        "    y_hat = ki / np.sum(ki, axis=1, keepdims=True)\n",
        "    y_pred = np.argmax(y_hat,axis=1)\n",
        "    prec_train = accuracy(y_pred,y_train)\n",
        "    print ('training precision =', prec_train)\n",
        "    \n",
        "    #TODO\n",
        "    W1, b1, loss_SGD1 = LogisticRegression_SGD(X_train, y_train, bs[i], lr[i], eta = 2.0e-1, eps = 1.0e-4, max_epoch = 500)\n",
        "    z1 = np.dot(X_test,W1) + b1\n",
        "    #logits\n",
        "    Z1 = z1 - np.max(z1, axis = 1, keepdims=True)\n",
        "    #softmax\n",
        "    ki1 = np.exp(Z1)\n",
        "    y_hat1 = ki1 / np.sum(ki1, axis=1, keepdims=True)\n",
        "    y_pred1 = np.argmax(y_hat1,axis=1)\n",
        "    prec_test = accuracy(y_pred1,y_test)\n",
        "    print ('test precision =', prec_test)\n",
        "    \n",
        "    plt.plot(loss_SGD, c = cl[i], ls = '-', marker = 'o', label = 'stochastic gradient descent (batch_size = ' + str(bs[i]) + ')')\n",
        "\n",
        "plt.grid()\n",
        "plt.legend()\n",
        "plt.xlabel('epoch')\n",
        "plt.ylabel('loss')"
      ],
      "metadata": {
        "colab": {
          "base_uri": "https://localhost:8080/",
          "height": 975
        },
        "id": "PPumL4hLMDLT",
        "outputId": "a0b20a5e-1e58-40db-c031-db425a225c50"
      },
      "execution_count": 21,
      "outputs": [
        {
          "output_type": "stream",
          "name": "stdout",
          "text": [
            "---------------------------------------\n",
            "batch_size = 10\n",
            "loss in loop:  0.23795921771957634\n",
            "epoch size:  35\n",
            "loss:  0.23795921771957634\n",
            "training precision = 0.9814402375649591\n",
            "loss in loop:  0.23795921771957634\n",
            "epoch size:  35\n",
            "test precision = 0.9666666666666667\n",
            "---------------------------------------\n",
            "batch_size = 50\n",
            "loss in loop:  0.23534767894321545\n",
            "epoch size:  36\n",
            "loss:  0.23534767894321545\n",
            "training precision = 0.9799554565701559\n",
            "loss in loop:  0.23534767894321545\n",
            "epoch size:  36\n",
            "test precision = 0.9688888888888889\n",
            "---------------------------------------\n",
            "batch_size = 100\n",
            "loss in loop:  0.23764523187369768\n",
            "epoch size:  37\n",
            "loss:  0.23764523187369768\n",
            "training precision = 0.9799554565701559\n",
            "loss in loop:  0.23764523187369768\n",
            "epoch size:  37\n",
            "test precision = 0.9711111111111111\n"
          ]
        },
        {
          "output_type": "execute_result",
          "data": {
            "text/plain": [
              "Text(0, 0.5, 'loss')"
            ]
          },
          "metadata": {},
          "execution_count": 21
        },
        {
          "output_type": "display_data",
          "data": {
            "text/plain": [
              "<Figure size 720x576 with 1 Axes>"
            ],
            "image/png": "[encoded data removed]"
          },
          "metadata": {
            "needs_background": "light"
          }
        }
      ]
    },
    {
      "cell_type": "code",
      "source": [
        "import time\n",
        "\n",
        "start_time = time.time()\n",
        "W, b, loss_SGD = LogisticRegression_SGD(X_train, y_train, 100, 0.01, eta = 2.0e-1, eps = 1.0e-4, max_epoch = 500)\n",
        "print(\"Time taken by the function:\", time.time() - start_time, \"seconds\")"
      ],
      "metadata": {
        "colab": {
          "base_uri": "https://localhost:8080/"
        },
        "id": "9Mn4KSbMlcm0",
        "outputId": "5d0b591a-4847-459c-d14e-8a29f74a2315"
      },
      "execution_count": 23,
      "outputs": [
        {
          "output_type": "stream",
          "name": "stdout",
          "text": [
            "loss in loop:  0.23764523187369768\n",
            "epoch size:  37\n",
            "Time taken by the function: 0.10736489295959473 seconds\n"
          ]
        }
      ]
    },
    {
      "cell_type": "code",
      "source": [
        "import time\n",
        "\n",
        "start_time = time.time()\n",
        "W, b, loss_SGD = LogisticRegression_SGD(X_train, y_train, 50, 0.005, eta = 2.0e-1, eps = 1.0e-4, max_epoch = 500)\n",
        "print(\"Time taken by the function:\", time.time() - start_time, \"seconds\")"
      ],
      "metadata": {
        "colab": {
          "base_uri": "https://localhost:8080/"
        },
        "id": "rEjcEM6Y97Ak",
        "outputId": "5fa13dd9-1a0f-41d8-9d7b-67c74fd9c473"
      },
      "execution_count": 24,
      "outputs": [
        {
          "output_type": "stream",
          "name": "stdout",
          "text": [
            "loss in loop:  0.23534767894321545\n",
            "epoch size:  36\n",
            "Time taken by the function: 0.2969343662261963 seconds\n"
          ]
        }
      ]
    },
    {
      "cell_type": "code",
      "source": [
        "import time\n",
        "\n",
        "start_time = time.time()\n",
        "W, b, loss_SGD = LogisticRegression_SGD(X_train, y_train, 10, 0.001, eta = 2.0e-1, eps = 1.0e-4, max_epoch = 500)\n",
        "print(\"Time taken by the function:\", time.time() - start_time, \"seconds\")"
      ],
      "metadata": {
        "colab": {
          "base_uri": "https://localhost:8080/"
        },
        "id": "sagfKOjl-DXx",
        "outputId": "16287827-e142-4b4a-f5ce-b8fec66a5411"
      },
      "execution_count": 25,
      "outputs": [
        {
          "output_type": "stream",
          "name": "stdout",
          "text": [
            "loss in loop:  0.23795921771957634\n",
            "epoch size:  35\n",
            "Time taken by the function: 0.825995922088623 seconds\n"
          ]
        }
      ]
    },
    {
      "cell_type": "code",
      "source": [],
      "metadata": {
        "id": "ynL1oWXhiNlt"
      },
      "execution_count": null,
      "outputs": []
    }
  ],
  "metadata": {
    "anaconda-cloud": {},
    "kernelspec": {
      "display_name": "Python 3 (ipykernel)",
      "language": "python",
      "name": "python3"
    },
    "language_info": {
      "codemirror_mode": {
        "name": "ipython",
        "version": 3
      },
      "file_extension": ".py",
      "mimetype": "text/x-python",
      "name": "python",
      "nbconvert_exporter": "python",
      "pygments_lexer": "ipython3",
      "version": "3.9.15"
    },
    "colab": {
      "provenance": []
    }
  },
  "nbformat": 4,
  "nbformat_minor": 0
}